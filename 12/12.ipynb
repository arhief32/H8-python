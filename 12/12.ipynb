{
 "cells": [
  {
   "cell_type": "code",
   "execution_count": 65,
   "metadata": {},
   "outputs": [],
   "source": [
    "import matplotlib.pyplot as plt\n",
    "import numpy as np\n",
    "from sklearn.datasets import load_digits, load_wine\n",
    "from sklearn.linear_model import LogisticRegression\n",
    "from sklearn.metrics import classification_report, confusion_matrix\n",
    "from sklearn.model_selection import train_test_split\n",
    "from sklearn.preprocessing import StandardScaler\n",
    "from sklearn import preprocessing\n",
    "from sklearn.neighbors import KNeighborsClassifier"
   ]
  },
  {
   "cell_type": "code",
   "execution_count": 10,
   "metadata": {},
   "outputs": [
    {
     "name": "stdout",
     "output_type": "stream",
     "text": [
      "[[0]\n",
      " [1]\n",
      " [2]\n",
      " [3]\n",
      " [4]\n",
      " [5]\n",
      " [6]\n",
      " [7]\n",
      " [8]\n",
      " [9]] (10, 1)\n",
      "[0 0 0 0 1 1 1 1 1 1] (10,)\n",
      "targets: ['not spam', 'not spam', 'not spam', 'not spam', 'spam', 'spam', 'spam', 'spam', 'spam', 'spam']\n",
      "{0: 'not spam', 1: 'spam'}\n",
      "{'not spam': 0, 'spam': 1}\n"
     ]
    }
   ],
   "source": [
    "x = np.arange(10).reshape(-1, 1)\n",
    "y = np.array([0,0,0,0,1,1,1,1,1,1])\n",
    "class_name = ['not spam', 'span']\n",
    "label_to_class = {\n",
    "    0: \"not spam\",\n",
    "    1: \"spam\"\n",
    "}\n",
    "\n",
    "class_to_label = {\n",
    "    value: key\n",
    "    for key, value in label_to_class.items()\n",
    "}\n",
    "\n",
    "print(x, x.shape)\n",
    "print(y, y.shape)\n",
    "print(\"targets:\", [label_to_class[i] for i in y])\n",
    "print(label_to_class)\n",
    "print(class_to_label)"
   ]
  },
  {
   "cell_type": "code",
   "execution_count": 12,
   "metadata": {},
   "outputs": [
    {
     "data": {
      "text/plain": [
       "LogisticRegression(random_state=11, solver='liblinear')"
      ]
     },
     "execution_count": 12,
     "metadata": {},
     "output_type": "execute_result"
    }
   ],
   "source": [
    "# define model\n",
    "model = LogisticRegression(\n",
    "    solver=\"liblinear\",\n",
    "    random_state=11\n",
    ")\n",
    "model"
   ]
  },
  {
   "cell_type": "code",
   "execution_count": 13,
   "metadata": {},
   "outputs": [
    {
     "data": {
      "text/plain": [
       "LogisticRegression(random_state=11, solver='liblinear')"
      ]
     },
     "execution_count": 13,
     "metadata": {},
     "output_type": "execute_result"
    }
   ],
   "source": [
    "model.fit(x,y)"
   ]
  },
  {
   "cell_type": "code",
   "execution_count": 14,
   "metadata": {},
   "outputs": [
    {
     "name": "stdout",
     "output_type": "stream",
     "text": [
      "classes: [0 1]\n",
      "weights: [[0.51491375]]\n",
      "bias: [-1.04608067]\n",
      "n iteration: [6]\n"
     ]
    }
   ],
   "source": [
    "print(\"classes:\", model.classes_)\n",
    "print(\"weights:\", model.coef_)\n",
    "print(\"bias:\", model.intercept_)\n",
    "print(\"n iteration:\", model.n_iter_)"
   ]
  },
  {
   "cell_type": "code",
   "execution_count": 15,
   "metadata": {},
   "outputs": [
    {
     "data": {
      "text/plain": [
       "array([[0.74002157, 0.25997843],\n",
       "       [0.62975524, 0.37024476],\n",
       "       [0.5040632 , 0.4959368 ],\n",
       "       [0.37785549, 0.62214451],\n",
       "       [0.26628093, 0.73371907],\n",
       "       [0.17821501, 0.82178499],\n",
       "       [0.11472079, 0.88527921],\n",
       "       [0.07186982, 0.92813018],\n",
       "       [0.04422513, 0.95577487],\n",
       "       [0.02690569, 0.97309431]])"
      ]
     },
     "execution_count": 15,
     "metadata": {},
     "output_type": "execute_result"
    }
   ],
   "source": [
    "model.predict_proba(x)"
   ]
  },
  {
   "cell_type": "code",
   "execution_count": 19,
   "metadata": {},
   "outputs": [
    {
     "name": "stdout",
     "output_type": "stream",
     "text": [
      "prediction: [0 0 0 1 1 1 1 1 1 1]\n",
      "targets: [0 0 0 0 1 1 1 1 1 1]\n",
      "\n",
      "prediction_to_class: ['not spam', 'not spam', 'not spam', 'spam', 'spam', 'spam', 'spam', 'spam', 'spam', 'spam']\n",
      "target class: ['not spam', 'not spam', 'not spam', 'not spam', 'spam', 'spam', 'spam', 'spam', 'spam', 'spam']\n"
     ]
    }
   ],
   "source": [
    "prediction = model.predict(x)\n",
    "print(\"prediction:\", prediction)\n",
    "print(\"targets:\", y)\n",
    "print()\n",
    "print(\"prediction_to_class:\",\n",
    "    [label_to_class[i] for i in prediction]\n",
    ")\n",
    "print(\"target class:\",\n",
    "    [label_to_class[i] for i in y]\n",
    ")"
   ]
  },
  {
   "cell_type": "code",
   "execution_count": 18,
   "metadata": {},
   "outputs": [
    {
     "name": "stdout",
     "output_type": "stream",
     "text": [
      "score: 0.9\n"
     ]
    }
   ],
   "source": [
    "model_score = model.score(x, y)\n",
    "print(\"score:\",model_score)"
   ]
  },
  {
   "cell_type": "code",
   "execution_count": 20,
   "metadata": {},
   "outputs": [
    {
     "data": {
      "text/plain": [
       "array([[3, 1],\n",
       "       [0, 6]])"
      ]
     },
     "execution_count": 20,
     "metadata": {},
     "output_type": "execute_result"
    }
   ],
   "source": [
    "confusion_matrix(y, prediction)"
   ]
  },
  {
   "cell_type": "code",
   "execution_count": 25,
   "metadata": {},
   "outputs": [
    {
     "data": {
      "image/png": "[encoded data removed]",
      "text/plain": [
       "<Figure size 576x576 with 1 Axes>"
      ]
     },
     "metadata": {
      "needs_background": "light"
     },
     "output_type": "display_data"
    }
   ],
   "source": [
    "cm = confusion_matrix(y, prediction)\n",
    "\n",
    "fig, ax = plt.subplots(figsize =(8,8))\n",
    "ax.imshow(cm)\n",
    "ax.xaxis.set(ticks=(0,1), ticklabels=(\"Pred 0s\", \"Pred 1s\"))\n",
    "ax.yaxis.set(ticks=(0,1), ticklabels=(\"Actual 0s\", \"Actual 1s\"))\n",
    "ax.set_ylim(1.5, -.5)\n",
    "for i in range(2):\n",
    "    for j in range(2):\n",
    "        ax.text(j,i,cm[i,j], ha='center', va='center', color='red')\n",
    "plt.show()"
   ]
  },
  {
   "cell_type": "code",
   "execution_count": 26,
   "metadata": {
    "scrolled": true
   },
   "outputs": [
    {
     "name": "stdout",
     "output_type": "stream",
     "text": [
      "              precision    recall  f1-score   support\n",
      "\n",
      "           0       1.00      0.75      0.86         4\n",
      "           1       0.86      1.00      0.92         6\n",
      "\n",
      "    accuracy                           0.90        10\n",
      "   macro avg       0.93      0.88      0.89        10\n",
      "weighted avg       0.91      0.90      0.90        10\n",
      "\n"
     ]
    }
   ],
   "source": [
    "print(classification_report(y, prediction))"
   ]
  },
  {
   "cell_type": "code",
   "execution_count": 27,
   "metadata": {},
   "outputs": [
    {
     "data": {
      "text/plain": [
       "array([0, 0, 0, 1, 1, 1, 1, 1, 1, 1])"
      ]
     },
     "execution_count": 27,
     "metadata": {},
     "output_type": "execute_result"
    }
   ],
   "source": [
    "model.predict(x)"
   ]
  },
  {
   "cell_type": "code",
   "execution_count": 31,
   "metadata": {},
   "outputs": [],
   "source": [
    "x, y = load_digits(return_X_y=True)"
   ]
  },
  {
   "cell_type": "code",
   "execution_count": 32,
   "metadata": {},
   "outputs": [
    {
     "name": "stdout",
     "output_type": "stream",
     "text": [
      "dataset shape: (1797, 64)\n",
      "target shape: (1797,)\n"
     ]
    }
   ],
   "source": [
    "print(\"dataset shape:\", x.shape)\n",
    "print(\"target shape:\", y.shape)"
   ]
  },
  {
   "cell_type": "code",
   "execution_count": 33,
   "metadata": {},
   "outputs": [
    {
     "name": "stdout",
     "output_type": "stream",
     "text": [
      "[[ 0.  0.  5. ...  0.  0.  0.]\n",
      " [ 0.  0.  0. ... 10.  0.  0.]\n",
      " [ 0.  0.  0. ... 16.  9.  0.]\n",
      " ...\n",
      " [ 0.  0.  1. ...  6.  0.  0.]\n",
      " [ 0.  0.  2. ... 12.  0.  0.]\n",
      " [ 0.  0. 10. ... 12.  1.  0.]]\n",
      "[0 1 2 ... 8 9 8]\n"
     ]
    }
   ],
   "source": [
    "print(x)\n",
    "print(y)"
   ]
  },
  {
   "cell_type": "code",
   "execution_count": 36,
   "metadata": {},
   "outputs": [
    {
     "name": "stdout",
     "output_type": "stream",
     "text": [
      "training set shape: (1437, 64)\n",
      "test set shape: (360, 64)\n"
     ]
    }
   ],
   "source": [
    "x_train, x_test, y_train, y_test = train_test_split(x,y,\n",
    "    test_size=0.2, random_state=0)\n",
    "print(\"training set shape:\", x_train.shape)\n",
    "print(\"test set shape:\", x_test.shape)"
   ]
  },
  {
   "cell_type": "code",
   "execution_count": 37,
   "metadata": {},
   "outputs": [
    {
     "name": "stdout",
     "output_type": "stream",
     "text": [
      "before scaling data:\n",
      "[[ 0.  0.  0.  9. 15.  2.  0.  0.  0.  0.  5. 16. 11.  1.  0.  0.  0.  0.\n",
      "  13. 15.  1.  0.  0.  0.  0.  2. 16. 11.  0.  0.  0.  0.  0.  2. 16. 11.\n",
      "   4.  4.  0.  0.  0.  2. 15. 16. 16. 14. 10.  1.  0.  0.  9. 16.  7.  3.\n",
      "  15.  6.  0.  0.  0.  7. 15. 16. 16.  6.]\n",
      " [ 0.  3. 12. 12. 14.  4.  0.  0.  0.  1. 13.  4.  4.  0.  0.  0.  0.  4.\n",
      "  14.  4.  3.  0.  0.  0.  0.  5. 13. 12. 14. 10.  0.  0.  0.  0.  0.  0.\n",
      "   0. 11.  6.  0.  0.  0.  0.  0.  0.  4.  8.  0.  0.  0.  6.  2.  0.  8.\n",
      "   8.  0.  0.  2. 13. 16. 16. 16.  2.  0.]\n",
      " [ 0.  1. 10. 15. 16. 13.  3.  0.  0.  5. 14.  5.  5. 15.  8.  0.  0.  0.\n",
      "   0.  0.  2. 15.  6.  0.  0.  0.  0.  0.  9. 16.  0.  0.  0.  0.  0.  0.\n",
      "   9. 16.  0.  0.  0.  0.  0.  0.  4. 16.  6.  0.  0.  0.  2.  3. 13. 12.\n",
      "   0.  0.  0.  0. 15. 13.  7.  0.  0.  0.]\n",
      " [ 0.  0.  0. 12.  4.  0.  0.  0.  0.  0.  6. 15.  2.  0.  0.  0.  0.  0.\n",
      "  16.  5.  0.  4.  4.  0.  0.  4. 15.  2.  3. 15.  9.  0.  0.  2. 15. 16.\n",
      "  16. 16.  4.  0.  0.  0.  2.  8. 16.  8.  0.  0.  0.  0.  0.  8. 15.  0.\n",
      "   0.  0.  0.  0.  0. 11.  9.  0.  0.  0.]\n",
      " [ 0.  0.  0.  9. 16.  3.  0.  0.  0.  0.  7. 16.  7.  0.  0.  0.  0.  2.\n",
      "  15.  8.  0.  1.  7.  0.  0.  9. 14.  0.  2. 13. 14.  0.  0.  8. 16. 14.\n",
      "  15. 16.  6.  0.  0.  1.  7.  8. 16. 12.  0.  0.  0.  0.  0.  7. 16.  5.\n",
      "   0.  0.  0.  0.  0. 12. 12.  0.  0.  0.]]\n",
      "[[ 0.  0. 11. 16. 15.  3.  0.  0.  0.  5. 16. 12. 11. 13.  0.  0.  0.  3.\n",
      "  13.  1.  5. 15.  0.  0.  0.  0.  0.  0. 12. 11.  0.  0.  0.  0.  0.  1.\n",
      "  16.  7.  0.  0.  0.  0.  0. 10. 15.  0.  0.  0.  0.  0. 12. 16. 16. 11.\n",
      "   1.  0.  0.  0. 13. 13.  8. 13. 16.  8.]\n",
      " [ 0.  1. 15. 14.  2.  0.  0.  0.  0.  6. 14.  0.  0.  3.  2.  0.  0.  2.\n",
      "  16.  3.  2. 13.  3.  0.  0.  0. 11. 14. 15.  9.  0.  0.  0.  0.  7. 16.\n",
      "  11.  0.  0.  0.  0.  0. 15. 13. 14.  0.  0.  0.  0.  2. 15.  4. 16.  3.\n",
      "   0.  0.  0.  1. 15. 16. 12.  1.  0.  0.]\n",
      " [ 0.  2. 13. 16. 10.  0.  0.  0.  0. 12. 15.  9. 16.  2.  0.  0.  0. 10.\n",
      "   8.  1. 16.  6.  0.  0.  0.  1.  1.  2. 16.  6.  0.  0.  0.  0.  0. 10.\n",
      "  15.  2.  0.  0.  0.  0.  2. 15.  9.  0.  0.  0.  0.  2. 15. 16.  9.  8.\n",
      "   6.  0.  0.  1. 13. 16. 16. 16. 16.  3.]\n",
      " [ 0.  0.  9.  7.  0.  0.  0.  0.  0.  0.  9. 11.  0.  0.  0.  0.  0.  0.\n",
      "  15.  4.  0.  0.  0.  0.  0.  2. 16.  1.  0.  0.  0.  0.  0.  5. 16.  8.\n",
      "  14.  9.  0.  0.  0.  5. 16. 15.  8.  9. 10.  0.  0.  3. 16.  2.  0.  7.\n",
      "  11.  0.  0.  0.  7. 14. 16. 12.  1.  0.]\n",
      " [ 0.  0.  3. 13.  6.  0.  0.  0.  0.  0. 10. 15.  2.  0.  0.  0.  0.  2.\n",
      "  15.  3.  0.  0.  0.  0.  0.  4. 14.  0.  0.  0.  0.  0.  0.  4. 14. 14.\n",
      "  16. 13.  2.  0.  0.  3. 16.  9.  1.  4. 12.  0.  0.  0. 14. 10.  5. 11.\n",
      "  11.  0.  0.  0.  3. 13. 15.  8.  0.  0.]]\n",
      "after scaling data:\n",
      "[[ 0.00000000e+00 -3.37904352e-01 -1.09141592e+00 -6.49132059e-01\n",
      "   7.34809219e-01 -6.78265196e-01 -4.07647831e-01 -1.22381022e-01\n",
      "  -5.57631748e-02 -6.26062881e-01 -9.90587716e-01  9.97490545e-01\n",
      "   1.32134895e-01 -1.19579353e+00 -5.15562309e-01 -1.26058592e-01\n",
      "  -3.73326696e-02 -7.22961231e-01  5.56105377e-01  1.38118964e+00\n",
      "  -9.84656641e-01 -1.26284019e+00 -5.54652523e-01 -1.15656284e-01\n",
      "  -2.63889907e-02 -1.52082781e-01  1.10759523e+00  3.71634913e-01\n",
      "  -1.60830723e+00 -1.28974179e+00 -6.35559335e-01 -4.57389354e-02\n",
      "   0.00000000e+00 -1.02760833e-01  1.32734049e+00  3.10000020e-01\n",
      "  -1.05452978e+00 -8.05126329e-01 -8.34989194e-01  0.00000000e+00\n",
      "  -5.80646520e-02  1.30087027e-01  1.23225418e+00  1.35913603e+00\n",
      "   1.32341669e+00  1.01539823e+00  1.51779287e+00  3.19368333e+00\n",
      "  -3.96300945e-02 -4.03981511e-01  2.51008149e-01  1.22276113e+00\n",
      "  -4.79969281e-01 -9.61823178e-01  2.34664760e+00  6.15487177e+00\n",
      "  -2.63889907e-02 -3.01406247e-01 -1.08657760e+00 -1.14418634e+00\n",
      "   6.53379482e-01  1.58325794e+00  3.53125595e+00  3.30213343e+00]\n",
      " [ 0.00000000e+00  2.90642897e+00  1.41696421e+00  5.02951608e-02\n",
      "   5.00003604e-01 -3.25316767e-01 -4.07647831e-01 -1.22381022e-01\n",
      "  -5.57631748e-02 -3.11828735e-01  4.75589236e-01 -2.03561243e+00\n",
      "  -1.32207179e+00 -1.36125866e+00 -5.15562309e-01 -1.26058592e-01\n",
      "  -3.73326696e-02  3.97745661e-01  7.32824401e-01 -5.17615773e-01\n",
      "  -6.62710886e-01 -1.26284019e+00 -5.54652523e-01 -1.15656284e-01\n",
      "  -2.63889907e-02  8.09249871e-01  6.25968943e-01  5.41494764e-01\n",
      "   6.61806070e-01  4.24743826e-01 -6.35559335e-01 -4.57389354e-02\n",
      "   0.00000000e+00 -6.76226143e-01 -1.20929092e+00 -1.45392018e+00\n",
      "  -1.72519111e+00  3.81506015e-01  8.53396554e-01  0.00000000e+00\n",
      "  -5.80646520e-02 -5.36348118e-01 -1.06126442e+00 -1.12135735e+00\n",
      "  -1.22969595e+00 -7.51527484e-01  1.05535921e+00 -9.61539066e-02\n",
      "  -3.96300945e-02 -4.03981511e-01 -2.77617220e-01 -1.44587723e+00\n",
      "  -1.80817038e+00 -1.32207388e-01  9.02921103e-01 -1.97450998e-01\n",
      "  -2.63889907e-02  1.76599603e+00  1.44628440e+00  8.94072879e-01\n",
      "   8.58829441e-01  1.58325794e+00  5.95785542e-03 -1.86959025e-01]\n",
      " [ 0.00000000e+00  7.43540089e-01  9.98900855e-01  7.49722381e-01\n",
      "   9.69614833e-01  1.26295116e+00  4.99615876e-01 -1.22381022e-01\n",
      "  -5.57631748e-02  9.45107850e-01  6.58861355e-01 -1.78285385e+00\n",
      "  -1.11432797e+00  1.12071819e+00  1.74747866e+00 -1.26058592e-01\n",
      "  -3.73326696e-02 -7.22961231e-01 -1.74124194e+00 -1.20809047e+00\n",
      "  -8.23683764e-01  1.15375429e+00  1.32072554e+00 -1.15656284e-01\n",
      "  -2.63889907e-02 -7.92971216e-01 -1.46107832e+00 -1.49682344e+00\n",
      "  -1.48948681e-01  1.45343519e+00 -6.35559335e-01 -4.57389354e-02\n",
      "   0.00000000e+00 -6.76226143e-01 -1.20929092e+00 -1.45392018e+00\n",
      "  -2.16203106e-01  1.22910055e+00 -8.34989194e-01  0.00000000e+00\n",
      "  -5.80646520e-02 -5.36348118e-01 -1.06126442e+00 -1.12135735e+00\n",
      "  -5.91417794e-01  1.36878337e+00  5.92925550e-01 -9.61539066e-02\n",
      "  -3.96300945e-02 -4.03981511e-01 -9.82451044e-01 -1.25526021e+00\n",
      "   6.58488804e-01  5.31485245e-01 -7.47052033e-01 -1.97450998e-01\n",
      "  -2.63889907e-02 -3.01406247e-01  1.83595548e+00  2.14653140e-01\n",
      "  -9.90220195e-01 -1.14493411e+00 -4.97656159e-01 -1.86959025e-01]\n",
      " [ 0.00000000e+00 -3.37904352e-01 -1.09141592e+00  5.02951608e-02\n",
      "  -1.84805254e+00 -1.03121362e+00 -4.07647831e-01 -1.22381022e-01\n",
      "  -5.57631748e-02 -6.26062881e-01 -8.07315597e-01  7.44731964e-01\n",
      "  -1.73755941e+00 -1.36125866e+00 -5.15562309e-01 -1.26058592e-01\n",
      "  -3.73326696e-02 -7.22961231e-01  1.08626245e+00 -3.44997099e-01\n",
      "  -1.14562952e+00 -6.18414991e-01  6.95599517e-01 -1.15656284e-01\n",
      "  -2.63889907e-02  4.88805654e-01  9.47053138e-01 -1.15710374e+00\n",
      "  -1.12185438e+00  1.28198663e+00  1.80279394e+00 -4.57389354e-02\n",
      "   0.00000000e+00 -1.02760833e-01  1.16880103e+00  1.11178193e+00\n",
      "   9.57454231e-01  1.22910055e+00  2.90601305e-01  0.00000000e+00\n",
      "  -5.80646520e-02 -5.36348118e-01 -7.55461936e-01  1.18889340e-01\n",
      "   1.32341669e+00 -4.47571997e-02 -7.94375425e-01 -9.61539066e-02\n",
      "  -3.96300945e-02 -4.03981511e-01 -1.33486796e+00 -3.02175076e-01\n",
      "   1.03797483e+00 -1.45959265e+00 -7.47052033e-01 -1.97450998e-01\n",
      "  -2.63889907e-02 -3.01406247e-01 -1.08657760e+00 -2.38293353e-01\n",
      "  -5.79320276e-01 -1.14493411e+00 -4.97656159e-01 -1.86959025e-01]\n",
      " [ 0.00000000e+00 -3.37904352e-01 -1.09141592e+00 -6.49132059e-01\n",
      "   9.69614833e-01 -5.01790981e-01 -4.07647831e-01 -1.22381022e-01\n",
      "  -5.57631748e-02 -6.26062881e-01 -6.24043478e-01  9.97490545e-01\n",
      "  -6.98840352e-01 -1.36125866e+00 -5.15562309e-01 -1.26058592e-01\n",
      "  -3.73326696e-02 -1.62607785e-01  9.09543425e-01  1.72858922e-01\n",
      "  -1.14562952e+00 -1.10173389e+00  1.63328855e+00 -1.15656284e-01\n",
      "  -2.63889907e-02  2.09102674e+00  7.86511040e-01 -1.49682344e+00\n",
      "  -1.28400533e+00  9.39089510e-01  3.15743464e+00 -4.57389354e-02\n",
      "   0.00000000e+00  1.61763510e+00  1.32734049e+00  7.91069165e-01\n",
      "   7.89788897e-01  1.22910055e+00  8.53396554e-01  0.00000000e+00\n",
      "  -5.80646520e-02 -2.03130545e-01  9.04426261e-03  1.18889340e-01\n",
      "   1.32341669e+00  6.62013085e-01 -7.94375425e-01 -9.61539066e-02\n",
      "  -3.96300945e-02 -4.03981511e-01 -1.33486796e+00 -4.92792102e-01\n",
      "   1.22771785e+00 -6.29976862e-01 -7.47052033e-01 -1.97450998e-01\n",
      "  -2.63889907e-02 -3.01406247e-01 -1.08657760e+00 -1.18201068e-02\n",
      "   3.70296030e-02 -1.14493411e+00 -4.97656159e-01 -1.86959025e-01]]\n",
      "[[ 0.         -0.33790435  1.20793253  0.98286479  0.73480922 -0.50179098\n",
      "  -0.40764783 -0.12238102 -0.05576317  0.94510785  1.02540559 -0.01354378\n",
      "   0.13213489  0.78978795 -0.51556231 -0.12605859 -0.03733267  0.11756894\n",
      "   0.55610538 -1.03547179 -0.34076513  1.15375429 -0.55465252 -0.11565628\n",
      "  -0.02638899 -0.79297122 -1.46107832 -1.49682344  0.33750417  0.59619239\n",
      "  -0.63555933 -0.04573894  0.         -0.67622614 -1.20929092 -1.2935638\n",
      "   0.95745423 -0.29656961 -0.83498919  0.         -0.05806465 -0.53634812\n",
      "  -1.06126442  0.42895101  1.16384715 -1.45829777 -0.79437542 -0.09615391\n",
      "  -0.03963009 -0.40398151  0.77963352  1.22276113  1.22771785  0.36556209\n",
      "  -0.54080539 -0.197451   -0.02638899 -0.30140625  1.4462844   0.21465314\n",
      "  -0.78477024  1.07172193  3.53125595  4.46516425]\n",
      " [ 0.          0.74354009  2.04405924  0.51657997 -2.31766377 -1.03121362\n",
      "  -0.40764783 -0.12238102 -0.05576317  1.259342    0.65886135 -3.04664675\n",
      "  -2.15304703 -0.86486329  0.05019793 -0.12605859 -0.03733267 -0.16260778\n",
      "   1.08626245 -0.69023445 -0.82368376  0.8315417   0.38303651 -0.11565628\n",
      "  -0.02638899 -0.79297122  0.30488475  0.88121446  0.82395702  0.25329526\n",
      "  -0.63555933 -0.04573894  0.         -0.67622614 -0.09951468  1.11178193\n",
      "   0.11912756 -1.48320195 -0.83498919  0.         -0.05806465 -0.53634812\n",
      "   1.23225418  0.89404352  1.00427761 -1.45829777 -0.79437542 -0.09615391\n",
      "  -0.03963009  0.70812851  1.30825889 -1.06464318  1.22771785 -0.96182318\n",
      "  -0.74705203 -0.197451   -0.02638899  0.73229489  1.83595548  0.89407288\n",
      "   0.0370296  -0.97442211 -0.49765616 -0.18695903]\n",
      " [ 0.          1.82498453  1.62599589  0.98286479 -0.43921885 -1.03121362\n",
      "  -0.40764783 -0.12238102 -0.05576317  3.14474687  0.84213347 -0.77181952\n",
      "   1.17085395 -1.03032841 -0.51556231 -0.12605859 -0.03733267  2.078806\n",
      "  -0.32748974 -1.03547179  1.42993652 -0.29620239 -0.55465252 -0.11565628\n",
      "  -0.02638899 -0.472527   -1.30053622 -1.15710374  0.98610797 -0.26105042\n",
      "  -0.63555933 -0.04573894  0.         -0.67622614 -1.20929092  0.14964364\n",
      "   0.7897889  -1.14416414 -0.83498919  0.         -0.05806465 -0.53634812\n",
      "  -0.75546194  1.2041052   0.20642991 -1.45829777 -0.79437542 -0.09615391\n",
      "  -0.03963009  0.70812851  1.30825889  1.22276113 -0.10048325 -0.13220739\n",
      "   0.49042782 -0.197451   -0.02638899  0.73229489  1.4462844   0.89407288\n",
      "   0.85882944  1.58325794  3.53125595  1.5575872 ]\n",
      " [ 0.         -0.33790435  0.78986918 -1.11541687 -2.78727499 -1.03121362\n",
      "  -0.40764783 -0.12238102 -0.05576317 -0.62606288 -0.25749924 -0.26630236\n",
      "  -2.15304703 -1.36125866 -0.51556231 -0.12605859 -0.03733267 -0.72296123\n",
      "   0.90954343 -0.51761577 -1.14562952 -1.26284019 -0.55465252 -0.11565628\n",
      "  -0.02638899 -0.15208278  1.10759523 -1.32696359 -1.60830723 -1.28974179\n",
      "  -0.63555933 -0.04573894  0.          0.75743713  1.32734049 -0.17106913\n",
      "   0.62212356  0.0424682  -0.83498919  0.         -0.05806465  1.12973975\n",
      "   1.38515542  1.2041052   0.04686037  0.13193537  1.51779287 -0.09615391\n",
      "  -0.03963009  1.26418352  1.48446734 -1.44587723 -1.80817038 -0.29813055\n",
      "   1.52166103 -0.197451   -0.02638899 -0.30140625  0.27727117  0.44112639\n",
      "   0.85882944  0.90120993 -0.24584915 -0.18695903]\n",
      " [ 0.         -0.33790435 -0.46432089  0.28343757 -1.37844131 -1.03121362\n",
      "  -0.40764783 -0.12238102 -0.05576317 -0.62606288 -0.07422712  0.74473196\n",
      "  -1.73755941 -1.36125866 -0.51556231 -0.12605859 -0.03733267 -0.16260778\n",
      "   0.90954343 -0.69023445 -1.14562952 -1.26284019 -0.55465252 -0.11565628\n",
      "  -0.02638899  0.48880565  0.78651104 -1.49682344 -1.60830723 -1.28974179\n",
      "  -0.63555933 -0.04573894  0.          0.47070448  1.01026156  0.79106916\n",
      "   0.95745423  0.72054383 -0.27219394  0.         -0.05806465  0.4633046\n",
      "   1.38515542  0.27392018 -1.07012641 -0.75152748  1.98022653 -0.09615391\n",
      "  -0.03963009 -0.40398151  1.13205043  0.07905898 -0.85945531  0.36556209\n",
      "   1.52166103 -0.197451   -0.02638899 -0.30140625 -0.50207098  0.21465314\n",
      "   0.65337948  0.21916191 -0.49765616 -0.18695903]]\n"
     ]
    }
   ],
   "source": [
    "print(\"before scaling data:\")\n",
    "print(x_train[:5])\n",
    "print(x_test[:5])\n",
    "\n",
    "scaler = StandardScaler()\n",
    "x_train = scaler.fit_transform(x_train)\n",
    "x_test = scaler.transform(x_test)\n",
    "\n",
    "print(\"after scaling data:\")\n",
    "print(x_train[:5])\n",
    "print(x_test[:5])"
   ]
  },
  {
   "cell_type": "code",
   "execution_count": 38,
   "metadata": {},
   "outputs": [
    {
     "data": {
      "text/plain": [
       "LogisticRegression(C=0.05, multi_class='ovr', random_state=111,\n",
       "                   solver='liblinear')"
      ]
     },
     "execution_count": 38,
     "metadata": {},
     "output_type": "execute_result"
    }
   ],
   "source": [
    "model = LogisticRegression(solver=\"liblinear\", C=0.05,\n",
    "    multi_class=\"ovr\", random_state=111\n",
    ")\n",
    "model.fit(x_train, y_train)"
   ]
  },
  {
   "cell_type": "code",
   "execution_count": 40,
   "metadata": {},
   "outputs": [
    {
     "name": "stdout",
     "output_type": "stream",
     "text": [
      "-- training set performance --\n",
      "              precision    recall  f1-score   support\n",
      "\n",
      "           0       0.97      1.00      0.99       151\n",
      "           1       0.95      0.97      0.96       147\n",
      "           2       0.98      1.00      0.99       141\n",
      "           3       0.99      0.95      0.97       154\n",
      "           4       0.99      0.97      0.98       151\n",
      "           5       0.96      0.96      0.96       142\n",
      "           6       0.98      0.98      0.98       137\n",
      "           7       0.97      0.99      0.98       140\n",
      "           8       0.94      0.89      0.91       135\n",
      "           9       0.91      0.94      0.92       139\n",
      "\n",
      "    accuracy                           0.96      1437\n",
      "   macro avg       0.96      0.96      0.96      1437\n",
      "weighted avg       0.96      0.96      0.96      1437\n",
      "\n",
      "-- test set performance --\n",
      "              precision    recall  f1-score   support\n",
      "\n",
      "           0       0.97      1.00      0.99       151\n",
      "           1       0.95      0.97      0.96       147\n",
      "           2       0.98      1.00      0.99       141\n",
      "           3       0.99      0.95      0.97       154\n",
      "           4       0.99      0.97      0.98       151\n",
      "           5       0.96      0.96      0.96       142\n",
      "           6       0.98      0.98      0.98       137\n",
      "           7       0.97      0.99      0.98       140\n",
      "           8       0.94      0.89      0.91       135\n",
      "           9       0.91      0.94      0.92       139\n",
      "\n",
      "    accuracy                           0.96      1437\n",
      "   macro avg       0.96      0.96      0.96      1437\n",
      "weighted avg       0.96      0.96      0.96      1437\n",
      "\n"
     ]
    }
   ],
   "source": [
    "print(\"-- training set performance --\")\n",
    "train_pred = model.predict(x_train)\n",
    "print(classification_report(y_train, train_pred))\n",
    "\n",
    "print(\"-- test set performance --\")\n",
    "test_pred = model.predict(x_test)\n",
    "print(classification_report(y_train, train_pred))"
   ]
  },
  {
   "cell_type": "code",
   "execution_count": 49,
   "metadata": {},
   "outputs": [
    {
     "data": {
      "image/png": "[encoded data removed]",
      "text/plain": [
       "<Figure size 576x576 with 1 Axes>"
      ]
     },
     "metadata": {
      "needs_background": "light"
     },
     "output_type": "display_data"
    }
   ],
   "source": [
    "cm = confusion_matrix(y_test, test_pred)\n",
    "\n",
    "fig, ax = plt.subplots(figsize =(8,8))\n",
    "ax.imshow(cm)\n",
    "ax.grid(False)\n",
    "ax.set_xlabel('Predicted outputs', color='black')\n",
    "ax.set_ylabel('Actual outputs', color='black')\n",
    "ax.xaxis.set(ticks=range(10))\n",
    "ax.yaxis.set(ticks=range(10))\n",
    "ax.set_ylim(9.5,-0.5)\n",
    "for i in range(10):\n",
    "    for j in range(10):\n",
    "        ax.text(j,i,cm[i,j], ha='center', va='center', color='white')\n",
    "plt.show()"
   ]
  },
  {
   "cell_type": "code",
   "execution_count": 46,
   "metadata": {},
   "outputs": [
    {
     "data": {
      "text/plain": [
       "(10, 64)"
      ]
     },
     "execution_count": 46,
     "metadata": {},
     "output_type": "execute_result"
    }
   ],
   "source": [
    "model.coef_.shape"
   ]
  },
  {
   "cell_type": "code",
   "execution_count": 52,
   "metadata": {},
   "outputs": [
    {
     "name": "stdout",
     "output_type": "stream",
     "text": [
      "14\n",
      "14\n",
      "14\n"
     ]
    }
   ],
   "source": [
    "# First Feature\n",
    "weather=['Sunny','Sunny','Overcast','Rainy','Rainy','Rainy','Overcast','Sunny','Sunny',\n",
    "'Rainy','Sunny','Overcast','Overcast','Rainy']\n",
    "print(len(weather))\n",
    "\n",
    "# Second Feature\n",
    "temp=['Hot','Hot','Hot','Mild','Cool','Cool','Cool','Mild','Cool','Mild','Mild','Mild','Hot','Mild']\n",
    "print(len(temp))\n",
    "\n",
    "# Label or target varible\n",
    "play=['No','No','Yes','Yes','Yes','No','Yes','No','Yes','Yes','Yes','Yes','Yes','No']\n",
    "print(len(play))"
   ]
  },
  {
   "cell_type": "code",
   "execution_count": 62,
   "metadata": {},
   "outputs": [
    {
     "name": "stdout",
     "output_type": "stream",
     "text": [
      "[2 2 0 1 1 1 0 2 2 1 2 0 0 1]\n",
      "[1 1 1 2 0 0 0 2 0 2 2 2 1 2]\n",
      "[0 0 1 1 1 0 1 0 1 1 1 1 1 0]\n"
     ]
    }
   ],
   "source": [
    "encoder = preprocessing.LabelEncoder()\n",
    "enc_weather = encoder.fit_transform(weather)\n",
    "enc_temp = encoder.fit_transform(temp)\n",
    "label = encoder.fit_transform(play)\n",
    "\n",
    "print(enc_weather)\n",
    "print(enc_temp)\n",
    "print(label)"
   ]
  },
  {
   "cell_type": "code",
   "execution_count": 63,
   "metadata": {},
   "outputs": [
    {
     "name": "stdout",
     "output_type": "stream",
     "text": [
      "[(2, 1), (2, 1), (0, 1), (1, 2), (1, 0), (1, 0), (0, 0), (2, 2), (2, 0), (1, 2), (2, 2), (0, 2), (0, 1), (1, 2)]\n"
     ]
    }
   ],
   "source": [
    "features = list(zip(enc_weather, enc_temp))\n",
    "print(features)"
   ]
  },
  {
   "cell_type": "code",
   "execution_count": 67,
   "metadata": {},
   "outputs": [
    {
     "name": "stdout",
     "output_type": "stream",
     "text": [
      "[1]\n"
     ]
    }
   ],
   "source": [
    "model = KNeighborsClassifier(n_neighbors=3)\n",
    "model.fit(features, label)\n",
    "predicted = model.predict([[0,2]])\n",
    "print(predicted)"
   ]
  },
  {
   "cell_type": "code",
   "execution_count": null,
   "metadata": {},
   "outputs": [],
   "source": []
  }
 ],
 "metadata": {
  "kernelspec": {
   "display_name": "Python 3",
   "language": "python",
   "name": "python3"
  },
  "language_info": {
   "codemirror_mode": {
    "name": "ipython",
    "version": 3
   },
   "file_extension": ".py",
   "mimetype": "text/x-python",
   "name": "python",
   "nbconvert_exporter": "python",
   "pygments_lexer": "ipython3",
   "version": "3.8.5"
  }
 },
 "nbformat": 4,
 "nbformat_minor": 4
}
