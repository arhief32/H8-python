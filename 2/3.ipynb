{
 "cells": [
  {
   "cell_type": "code",
   "execution_count": 4,
   "metadata": {},
   "outputs": [
    {
     "name": "stdout",
     "output_type": "stream",
     "text": [
      "10 adalah genap\n",
      "9 adalah ganjil dan tidak bisa dibagi 3\n",
      "7 adalah ganjil dan tidak bisa dibagi 3\n",
      "6 adalah genap\n",
      "4 adalah genap\n",
      "3 adalah ganjil dan tidak bisa dibagi 3\n",
      "1 adalah ganjil dan tidak bisa dibagi 3\n"
     ]
    }
   ],
   "source": [
    "n = 10\n",
    "while n > 0:\n",
    "    if (n + 1) % 3 == 0:\n",
    "        n -= 1\n",
    "        continue\n",
    "    elif n % 2 == 0:\n",
    "        print(n, \"adalah genap\")\n",
    "    else:\n",
    "        print(n, \"adalah ganjil dan tidak bisa dibagi 3\")\n",
    "    n -= 1"
   ]
  },
  {
   "cell_type": "code",
   "execution_count": 9,
   "metadata": {},
   "outputs": [
    {
     "name": "stdout",
     "output_type": "stream",
     "text": [
      "Hallo Arief\n",
      "Hallo Bambang\n"
     ]
    }
   ],
   "source": [
    "student = \"Arief\"\n",
    "def IniFunction(student):\n",
    "    print(\"Hallo \" + student)\n",
    "IniFunction(student)\n",
    "IniFunction(\"Bambang\")"
   ]
  },
  {
   "cell_type": "code",
   "execution_count": 12,
   "metadata": {},
   "outputs": [
    {
     "name": "stdout",
     "output_type": "stream",
     "text": [
      "Hello Bambang!\n",
      "Hello Ferguso!\n",
      "Hello Marimar!\n",
      "Hello Fernando!\n"
     ]
    }
   ],
   "source": [
    "students = [\n",
    "    \"Bambang\",\n",
    "    \"Ferguso\",\n",
    "    \"Marimar\",\n",
    "    \"Fernando\"\n",
    "]\n",
    "\n",
    "def IniJugaFunction(string):\n",
    "    print(\"Hello \"+string+\"!\")\n",
    "\n",
    "for value in students:\n",
    "    IniJugaFunction(value)"
   ]
  },
  {
   "cell_type": "code",
   "execution_count": 17,
   "metadata": {},
   "outputs": [
    {
     "name": "stdout",
     "output_type": "stream",
     "text": [
      "<module 'models' from '/home/freedom/NOTEBOOKS/2/models.py'>\n"
     ]
    }
   ],
   "source": [
    "import models\n",
    "print(models)"
   ]
  },
  {
   "cell_type": "code",
   "execution_count": 25,
   "metadata": {},
   "outputs": [
    {
     "name": "stdout",
     "output_type": "stream",
     "text": [
      "['Bambang', 'Fernando', 'Ferguso']\n",
      "Bambang\n",
      "27\n"
     ]
    }
   ],
   "source": [
    "import models\n",
    "print(models.students)\n",
    "print(models.students[0])\n",
    "\n",
    "#hitung\n",
    "print(models.hitung(3, 3))"
   ]
  }
 ],
 "metadata": {
  "kernelspec": {
   "display_name": "Python 3",
   "language": "python",
   "name": "python3"
  },
  "language_info": {
   "codemirror_mode": {
    "name": "ipython",
    "version": 3
   },
   "file_extension": ".py",
   "mimetype": "text/x-python",
   "name": "python",
   "nbconvert_exporter": "python",
   "pygments_lexer": "ipython3",
   "version": "3.8.3"
  }
 },
 "nbformat": 4,
 "nbformat_minor": 4
}
