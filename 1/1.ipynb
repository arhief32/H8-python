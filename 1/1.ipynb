{
 "cells": [
  {
   "cell_type": "code",
   "execution_count": 1,
   "metadata": {},
   "outputs": [
    {
     "name": "stdout",
     "output_type": "stream",
     "text": [
      "x kurang dari 5\n"
     ]
    }
   ],
   "source": [
    "x = 1\n",
    "y = 5\n",
    "\n",
    "if x < 5:\n",
    "    print(\"x kurang dari 5\")\n",
    "if x > 5:\n",
    "    print(\"x lebih dari 5\")"
   ]
  },
  {
   "cell_type": "code",
   "execution_count": 9,
   "metadata": {},
   "outputs": [
    {
     "name": "stdout",
     "output_type": "stream",
     "text": [
      "\n",
      "uangnya cukup untuk membeli buku\n",
      "jumlah buku yang bisa dibeli adalah 1\n",
      "sisa uang dari membeli buku adalah 1500\n",
      "\n",
      "uangnya cukup untuk membeli pulpen\n",
      "jumlah pulen yang bisa dibeli adalah 6\n",
      "sisa uang dari membeli pulpen adalah 500\n"
     ]
    }
   ],
   "source": [
    "book_price = 5000\n",
    "pen_price = 1000\n",
    "# money = 2500\n",
    "money = 6500\n",
    "\n",
    "if money > book_price:\n",
    "    print(\"\")\n",
    "    print(\"uangnya cukup untuk membeli buku\")\n",
    "    count_book = money // book_price\n",
    "    mod_book = money % book_price\n",
    "    if count_book > 0:\n",
    "        print(\"jumlah buku yang bisa dibeli adalah\", count_book)\n",
    "    if mod_book > 0:\n",
    "        print(\"sisa uang dari membeli buku adalah\", mod_book)\n",
    "print(\"\")    \n",
    "if money > pen_price:\n",
    "    print(\"uangnya cukup untuk membeli pulpen\")\n",
    "    count_pen = money // pen_price\n",
    "    mod_pen = money % pen_price\n",
    "    if count_pen > 0:\n",
    "        print(\"jumlah pulen yang bisa dibeli adalah\", count_pen)\n",
    "    if mod_pen > 0:\n",
    "        print(\"sisa uang dari membeli pulpen adalah\", mod_pen)"
   ]
  },
  {
   "cell_type": "code",
   "execution_count": 20,
   "metadata": {},
   "outputs": [
    {
     "name": "stdout",
     "output_type": "stream",
     "text": [
      "1\n",
      "2\n",
      "3\n",
      "4\n",
      "5\n"
     ]
    }
   ],
   "source": [
    "i = 1\n",
    "while i < 6:\n",
    "    print(i)\n",
    "    i += 1"
   ]
  },
  {
   "cell_type": "code",
   "execution_count": 21,
   "metadata": {},
   "outputs": [
    {
     "name": "stdout",
     "output_type": "stream",
     "text": [
      "1\n",
      "2\n",
      "3\n"
     ]
    }
   ],
   "source": [
    "i = 1\n",
    "while i < 6:\n",
    "    print(i)\n",
    "    if i == 3:\n",
    "        break\n",
    "    i += 1"
   ]
  },
  {
   "cell_type": "code",
   "execution_count": 22,
   "metadata": {},
   "outputs": [
    {
     "name": "stdout",
     "output_type": "stream",
     "text": [
      "1\n",
      "2\n",
      "4\n",
      "5\n",
      "6\n"
     ]
    }
   ],
   "source": [
    "i = 0\n",
    "while i < 6:\n",
    "    i += 1\n",
    "    if i == 3:\n",
    "        continue\n",
    "    print(i)"
   ]
  },
  {
   "cell_type": "code",
   "execution_count": 23,
   "metadata": {},
   "outputs": [
    {
     "name": "stdout",
     "output_type": "stream",
     "text": [
      "1\n",
      "2\n",
      "3\n",
      "4\n",
      "5\n",
      "i tidak lebih besar dari 6\n"
     ]
    }
   ],
   "source": [
    "i = 1\n",
    "while i < 6:\n",
    "    print(i)\n",
    "    i += 1\n",
    "else:\n",
    "    print(\"i tidak lebih besar dari 6\")"
   ]
  },
  {
   "cell_type": "code",
   "execution_count": null,
   "metadata": {},
   "outputs": [],
   "source": []
  }
 ],
 "metadata": {
  "kernelspec": {
   "display_name": "Python 3",
   "language": "python",
   "name": "python3"
  },
  "language_info": {
   "codemirror_mode": {
    "name": "ipython",
    "version": 3
   },
   "file_extension": ".py",
   "mimetype": "text/x-python",
   "name": "python",
   "nbconvert_exporter": "python",
   "pygments_lexer": "ipython3",
   "version": "3.8.3"
  }
 },
 "nbformat": 4,
 "nbformat_minor": 4
}
