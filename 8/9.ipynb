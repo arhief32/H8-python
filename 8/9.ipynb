{
 "cells": [
  {
   "cell_type": "code",
   "execution_count": 1,
   "metadata": {},
   "outputs": [],
   "source": [
    "import math\n",
    "import statistics\n",
    "\n",
    "import numpy as np\n",
    "import scipy\n",
    "import scipy.stats\n",
    "import pandas as pd"
   ]
  },
  {
   "cell_type": "code",
   "execution_count": 2,
   "metadata": {},
   "outputs": [
    {
     "name": "stdout",
     "output_type": "stream",
     "text": [
      "numpy: 1.19.2\n",
      "scipy: 1.5.2\n",
      "pandas: 1.1.3\n"
     ]
    }
   ],
   "source": [
    "print(\"numpy:\", np.__version__)\n",
    "print(\"scipy:\", scipy.__version__)\n",
    "print(\"pandas:\", pd.__version__)"
   ]
  },
  {
   "cell_type": "code",
   "execution_count": 3,
   "metadata": {},
   "outputs": [
    {
     "name": "stdout",
     "output_type": "stream",
     "text": [
      "[8.0, 1, 2.5, 4, 28] 5\n",
      "[8.0, 1, 2.5, nan, 4, 28.0] 6\n"
     ]
    }
   ],
   "source": [
    "x = [8.0, 1, 2.5, 4, 28]\n",
    "x_with_nan = [8.,1,2.5,math.nan,4,28.]\n",
    "print(x,len(x))\n",
    "print(x_with_nan,len(x_with_nan))"
   ]
  },
  {
   "cell_type": "code",
   "execution_count": 4,
   "metadata": {},
   "outputs": [
    {
     "name": "stdout",
     "output_type": "stream",
     "text": [
      "[ 8.   1.   2.5  4.  28. ]\n",
      "[ 8.   1.   2.5  nan  4.  28. ]\n",
      "0     8.0\n",
      "1     1.0\n",
      "2     2.5\n",
      "3     4.0\n",
      "4    28.0\n",
      "dtype: float64\n",
      "0     8.0\n",
      "1     1.0\n",
      "2     2.5\n",
      "3     NaN\n",
      "4     4.0\n",
      "5    28.0\n",
      "dtype: float64\n"
     ]
    }
   ],
   "source": [
    "y, y_with_nan = np.array(x), np.array(x_with_nan)\n",
    "z, z_with_nan = pd.Series(x), pd.Series(x_with_nan)\n",
    "print(y)\n",
    "print(y_with_nan)\n",
    "print(z)\n",
    "print(z_with_nan)"
   ]
  },
  {
   "cell_type": "markdown",
   "metadata": {},
   "source": [
    "# Measures of Central Tendency"
   ]
  },
  {
   "cell_type": "markdown",
   "metadata": {},
   "source": [
    "## Mean"
   ]
  },
  {
   "cell_type": "code",
   "execution_count": 5,
   "metadata": {},
   "outputs": [
    {
     "name": "stdout",
     "output_type": "stream",
     "text": [
      "x: [8.0, 1, 2.5, 4, 28]\n",
      "mean native: 8.7\n",
      "mean statistics: 8.7\n"
     ]
    }
   ],
   "source": [
    "print(\"x:\", x)\n",
    "mean_native = sum(x) / len(x)\n",
    "print(\"mean native:\", mean_native)\n",
    "mean_stats = statistics.mean(x)\n",
    "print(\"mean statistics:\", mean_stats)"
   ]
  },
  {
   "cell_type": "code",
   "execution_count": 8,
   "metadata": {},
   "outputs": [
    {
     "name": "stdout",
     "output_type": "stream",
     "text": [
      "x with nan: [8.0, 1, 2.5, nan, 4, 28.0]\n",
      "mean with nan native: nan\n",
      "mean with nan statistics: nan\n",
      "mean with nan numpy: nan\n"
     ]
    }
   ],
   "source": [
    "print(\"x with nan:\",x_with_nan)\n",
    "mean_with_nan_native = sum(x_with_nan) / len(x_with_nan)\n",
    "print(\"mean with nan native:\",mean_with_nan_native)\n",
    "mean_with_nan_statistics = statistics.mean(x_with_nan)\n",
    "print(\"mean with nan statistics:\",mean_with_nan_statistics)\n",
    "mean_with_nan_np = np.mean(y_with_nan)\n",
    "print(\"mean with nan numpy:\",mean_with_nan_np)"
   ]
  },
  {
   "cell_type": "code",
   "execution_count": 10,
   "metadata": {},
   "outputs": [
    {
     "data": {
      "text/plain": [
       "8.7"
      ]
     },
     "execution_count": 10,
     "metadata": {},
     "output_type": "execute_result"
    }
   ],
   "source": [
    "np.nanmean(y)"
   ]
  },
  {
   "cell_type": "code",
   "execution_count": 11,
   "metadata": {},
   "outputs": [
    {
     "name": "stdout",
     "output_type": "stream",
     "text": [
      "mean ignoring nan np: 8.7\n"
     ]
    }
   ],
   "source": [
    "mean_ignoring_nan_np = np.nanmean(x_with_nan)\n",
    "print(\"mean ignoring nan np:\", mean_ignoring_nan_np)"
   ]
  },
  {
   "cell_type": "code",
   "execution_count": 12,
   "metadata": {},
   "outputs": [
    {
     "data": {
      "text/plain": [
       "0     8.0\n",
       "1     1.0\n",
       "2     2.5\n",
       "3     4.0\n",
       "4    28.0\n",
       "dtype: float64"
      ]
     },
     "execution_count": 12,
     "metadata": {},
     "output_type": "execute_result"
    }
   ],
   "source": [
    "z"
   ]
  },
  {
   "cell_type": "code",
   "execution_count": 14,
   "metadata": {},
   "outputs": [
    {
     "data": {
      "text/plain": [
       "8.7"
      ]
     },
     "execution_count": 14,
     "metadata": {},
     "output_type": "execute_result"
    }
   ],
   "source": [
    "z_with_nan.mean()"
   ]
  },
  {
   "cell_type": "code",
   "execution_count": 16,
   "metadata": {},
   "outputs": [
    {
     "name": "stdout",
     "output_type": "stream",
     "text": [
      "[2, 2, 4, 4, 4, 4, 4, 8, 8, 8] 10\n",
      "mean: 4.8\n",
      "weighted mean: 4.8\n"
     ]
    }
   ],
   "source": [
    "arr = [2,2,4,4,4,4,4,8,8,8]\n",
    "print(arr, len(arr))\n",
    "print(\"mean:\",np.mean(arr))\n",
    "print(\"weighted mean:\", 0.2*2 + 0.5*4 + 0.3*8)"
   ]
  },
  {
   "cell_type": "code",
   "execution_count": 20,
   "metadata": {},
   "outputs": [
    {
     "name": "stdout",
     "output_type": "stream",
     "text": [
      "weighted mean: 3.2352941176470584\n"
     ]
    }
   ],
   "source": [
    "arr_x = [8.,1,2.5,4]\n",
    "arr_w = [.1,.2,.3,.25]\n",
    "\n",
    "print(\n",
    "    \"weighted mean:\", \n",
    "    sum(w*x for x, w in zip(arr_x,arr_w))/sum(arr_w)\n",
    ")"
   ]
  },
  {
   "cell_type": "code",
   "execution_count": 21,
   "metadata": {},
   "outputs": [
    {
     "data": {
      "text/plain": [
       "3.2352941176470584"
      ]
     },
     "execution_count": 21,
     "metadata": {},
     "output_type": "execute_result"
    }
   ],
   "source": [
    "np_x,np_w = np.array(arr_x),np.array(arr_w)\n",
    "np.average(np_x, weights=np_w)"
   ]
  },
  {
   "cell_type": "markdown",
   "metadata": {},
   "source": [
    "## Harmonic Mean "
   ]
  },
  {
   "cell_type": "code",
   "execution_count": 34,
   "metadata": {},
   "outputs": [
    {
     "name": "stdout",
     "output_type": "stream",
     "text": [
      "[8.0, 1, 2.5, 4, 28, 100, 100, 100, 100, 100, 100, -100, -100]\n",
      "arithmetic mean: 34.11538461538461\n",
      "harmonic mean: 7.0243149363180235\n"
     ]
    }
   ],
   "source": [
    "x += [100]\n",
    "print(x)\n",
    "print(\"arithmetic mean:\",sum(x)/len(x))\n",
    "print(\"harmonic mean:\",len(x)/sum(1/i for i in x))"
   ]
  },
  {
   "cell_type": "code",
   "execution_count": 30,
   "metadata": {},
   "outputs": [
    {
     "data": {
      "text/plain": [
       "5.880106911034747"
      ]
     },
     "execution_count": 30,
     "metadata": {},
     "output_type": "execute_result"
    }
   ],
   "source": [
    "scipy.stats.hmean(x)"
   ]
  },
  {
   "cell_type": "code",
   "execution_count": 41,
   "metadata": {},
   "outputs": [
    {
     "name": "stdout",
     "output_type": "stream",
     "text": [
      "1.5983888578501444\n",
      "nan\n"
     ]
    }
   ],
   "source": [
    "gmean = 1\n",
    "\n",
    "for item in x:\n",
    "    gmean += item\n",
    "\n",
    "gmean = gmean**(1/len(x))\n",
    "print(gmean)\n",
    "print(scipy.stats.gmean(x))"
   ]
  },
  {
   "cell_type": "code",
   "execution_count": 44,
   "metadata": {},
   "outputs": [
    {
     "name": "stdout",
     "output_type": "stream",
     "text": [
      "[8.0, 1, 2.5, 4, 28, 100, 100, 100, 100, 100, 100, -100, -100] 13 [-100, -100, 1, 2.5, 4, 8.0, 28, 100, 100, 100, 100, 100, 100]\n",
      "median np: 28.0\n",
      "median native: 28\n"
     ]
    }
   ],
   "source": [
    "print(x, len(x), sorted(x))\n",
    "print(\"median np:\", np.median(x))\n",
    "\n",
    "if len(x) % 2:\n",
    "    med = sorted(x)[round(0.5 * (len(x)-1))]\n",
    "else:\n",
    "    x_ordered, index = sorted(x), round(0.5 * len(x))\n",
    "    med = 0.5 * (ordered_x[index-1] + ordered_x[index])\n",
    "print(\"median native:\",med)"
   ]
  },
  {
   "cell_type": "code",
   "execution_count": 45,
   "metadata": {},
   "outputs": [
    {
     "data": {
      "text/plain": [
       "(28, 28, 28)"
      ]
     },
     "execution_count": 45,
     "metadata": {},
     "output_type": "execute_result"
    }
   ],
   "source": [
    "statistics.median(x), statistics.median_high(x), statistics.median_low(x)"
   ]
  },
  {
   "cell_type": "markdown",
   "metadata": {},
   "source": []
  },
  {
   "cell_type": "markdown",
   "metadata": {},
   "source": []
  },
  {
   "cell_type": "code",
   "execution_count": 48,
   "metadata": {},
   "outputs": [
    {
     "name": "stdout",
     "output_type": "stream",
     "text": [
      "34.11538461538461\n"
     ]
    }
   ],
   "source": [
    "n = len(x)\n",
    "mean_x = sum(x)/len(x)\n",
    "print(mean_x)"
   ]
  },
  {
   "cell_type": "code",
   "execution_count": null,
   "metadata": {},
   "outputs": [],
   "source": []
  },
  {
   "cell_type": "code",
   "execution_count": 55,
   "metadata": {},
   "outputs": [
    {
     "name": "stdout",
     "output_type": "stream",
     "text": [
      "Python 3.8.5\n",
      "[8.0, 1, 2.5, 4, 28, 100, 100, 100, 100, 100, 100, -100, -100]\n"
     ]
    },
    {
     "data": {
      "text/plain": [
       "[1.75, 28.0, 100.0]"
      ]
     },
     "execution_count": 55,
     "metadata": {},
     "output_type": "execute_result"
    }
   ],
   "source": [
    "print(x)\n",
    "statistics.quantiles(x)"
   ]
  },
  {
   "cell_type": "code",
   "execution_count": null,
   "metadata": {},
   "outputs": [],
   "source": []
  }
 ],
 "metadata": {
  "kernelspec": {
   "display_name": "Python 3",
   "language": "python",
   "name": "python3"
  }
 },
 "nbformat": 4,
 "nbformat_minor": 4
}
